{
 "cells": [
  {
   "cell_type": "markdown",
   "id": "bd9f5344",
   "metadata": {},
   "source": [
    "# Twitter Sentiment Analysis on Google and Apple Products using Natural Language Processing"
   ]
  },
  {
   "cell_type": "markdown",
   "id": "5b162b2c",
   "metadata": {},
   "source": [
    "## Overview\n",
    "The project goal is to build an NLP model that can rate the sentiment of a Tweet based on its content.\n",
    "\n",
    "## Business Understanding\n",
    "Stakeholder A Market Research Firm: A market research firm might be hired by a third-party company to conduct a sentiment analysis on Twitter data related to Google and Apple products. The third-party company might be interested in understanding which brand is perceived more positively in the market, which product features are most important to customers, and how customers feel about the brand's technology. The third-party company would then present the results of the analysis to the market research firm.\n",
    "\n",
    "## Data Understanding and Analysis\n",
    "The dataset comes from CrowdFlower via [data.world](https://data.world/crowdflower/brands-and-product-emotions). It has 3 columns and 9,093 rows. The data is supervised. Human raters rated the sentiment of the tweets.\n",
    "\n",
    "## Visualizations\n",
    "- Bar plots demonstrating the imbalance of the data \n",
    "- Bar plots demonstrating the sentiment distribution among the products \n",
    "- Confusion Matrixes for every model\n",
    "- ROC-AUC score for the best model\n",
    "- A network graph and a word cloud\n",
    "\n",
    "## Conclusion\n",
    "Even though the binary classification model had the best scores I picked the fourth iteration multiclass model. It scored the best with the least amount of overfitting and will give our Market Firm the most information. \n",
    "\n",
    "##### Key Findings\n",
    "1. The majority of the negative tweets were not directed at a particular product. \n",
    "2. Google and Apple are pretty equal in positive tweets.\n",
    "3. The iPad was tweeted about the most.\n",
    "4. Based on this dataset, the tweeters feel more positive about the Android over the iPhone. \n",
    "5. The tweets were most likely tweeted at SXSW festival."
   ]
  },
  {
   "cell_type": "markdown",
   "id": "b67d9c00",
   "metadata": {},
   "source": []
  }
 ],
 "metadata": {
  "kernelspec": {
   "display_name": "Python 3 (ipykernel)",
   "language": "python",
   "name": "python3"
  },
  "language_info": {
   "codemirror_mode": {
    "name": "ipython",
    "version": 3
   },
   "file_extension": ".py",
   "mimetype": "text/x-python",
   "name": "python",
   "nbconvert_exporter": "python",
   "pygments_lexer": "ipython3",
   "version": "3.9.16"
  }
 },
 "nbformat": 4,
 "nbformat_minor": 5
}
